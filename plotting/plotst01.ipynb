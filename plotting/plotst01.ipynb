{
 "cells": [
  {
   "cell_type": "code",
   "execution_count": 8,
   "metadata": {},
   "outputs": [],
   "source": [
    "import obspy\n",
    "from obspy import read\n",
    "import matplotlib.pyplot as plt"
   ]
  },
  {
   "cell_type": "code",
   "execution_count": 34,
   "metadata": {},
   "outputs": [
    {
     "name": "stdout",
     "output_type": "stream",
     "text": [
      "3 Trace(s) in Stream:\n",
      "ST.01..BXN | 2020-01-13T15:15:36.163873Z - 2020-01-13T16:15:26.383873Z | 50.0 Hz, 179512 samples\n",
      "ST.01..BXE | 2020-01-13T15:15:36.163873Z - 2020-01-13T16:15:26.383873Z | 50.0 Hz, 179512 samples\n",
      "ST.01..BXZ | 2020-01-13T15:15:36.163873Z - 2020-01-13T16:15:26.383873Z | 50.0 Hz, 179512 samples\n"
     ]
    }
   ],
   "source": [
    "st = read('ST_01_2020-01-13_Mw_5_80*',debug_headers=True)\n",
    "print(st)"
   ]
  },
  {
   "cell_type": "code",
   "execution_count": 38,
   "metadata": {},
   "outputs": [],
   "source": [
    "net = 'TTN'\n",
    "sta = 'DF01'\n",
    "loc = '00'\n",
    "cha = ['BXN','BXE','BXZ']\n",
    "\n",
    "BXN_data=st[0].data\n",
    "BXN_times=st[0].times()\n",
    "BXE_data=st[1].data\n",
    "BXE_times=st[1].times()\n",
    "BXZ_data=st[2].data\n",
    "BXZ_times=st[2].times()\n",
    "#fig = plt.figure(figsize=(16,20))"
   ]
  },
  {
   "cell_type": "code",
   "execution_count": 5,
   "metadata": {},
   "outputs": [],
   "source": [
    "#ax1 = plt.subplot(311)\n",
    "#plt.plot(BXN_times,BXN_data,label='BXN',color='C0')\n",
    "#plt.xlim(300,1000)\n",
    "#plt.ylabel('Ground velocity (m/s)',fontsize=14)\n",
    "#plt.legend()\n",
    "#plt.subplot(312, sharex=ax1)\n",
    "#ax2 = plt.plot(BXE_times,BXE_data,label='BXE',color='C1')\n",
    "#plt.xlim(300,1000)\n",
    "#plt.ylabel('Ground velocity (m/s)',fontsize=14)\n",
    "#plt.legend()\n",
    "#ax3 = plt.subplot(313, sharex=ax1)\n",
    "#plt.plot(BXZ_times,BXZ_data,label='BXZ',color='C2')\n",
    "#plt.xlim(300,1000)\n",
    "#plt.ylabel('Ground velocity (m/s)',fontsize=14)\n",
    "#plt.legend()\n",
    "#plt.xlabel('Time after quake (s)',fontsize=14);"
   ]
  },
  {
   "cell_type": "code",
   "execution_count": 1,
   "metadata": {},
   "outputs": [
    {
     "ename": "NameError",
     "evalue": "name 'plt' is not defined",
     "output_type": "error",
     "traceback": [
      "\u001b[1;31m---------------------------------------------------------------------------\u001b[0m",
      "\u001b[1;31mNameError\u001b[0m                                 Traceback (most recent call last)",
      "\u001b[1;32m<ipython-input-1-183675c325fe>\u001b[0m in \u001b[0;36m<module>\u001b[1;34m\u001b[0m\n\u001b[1;32m----> 1\u001b[1;33m \u001b[0mfig2\u001b[0m\u001b[1;33m,\u001b[0m \u001b[0maxs\u001b[0m \u001b[1;33m=\u001b[0m \u001b[0mplt\u001b[0m\u001b[1;33m.\u001b[0m\u001b[0msubplots\u001b[0m\u001b[1;33m(\u001b[0m\u001b[1;36m3\u001b[0m\u001b[1;33m,\u001b[0m \u001b[1;36m1\u001b[0m\u001b[1;33m,\u001b[0m \u001b[0msharex\u001b[0m\u001b[1;33m=\u001b[0m\u001b[1;32mTrue\u001b[0m\u001b[1;33m)\u001b[0m\u001b[1;33m\u001b[0m\u001b[1;33m\u001b[0m\u001b[0m\n\u001b[0m\u001b[0;32m      2\u001b[0m \u001b[0mfig2\u001b[0m\u001b[1;33m.\u001b[0m\u001b[0msubplots_adjust\u001b[0m\u001b[1;33m(\u001b[0m\u001b[0mhspace\u001b[0m\u001b[1;33m=\u001b[0m\u001b[1;36m0\u001b[0m\u001b[1;33m)\u001b[0m\u001b[1;33m\u001b[0m\u001b[1;33m\u001b[0m\u001b[0m\n\u001b[0;32m      3\u001b[0m \u001b[1;33m\u001b[0m\u001b[0m\n\u001b[0;32m      4\u001b[0m \u001b[0maxs\u001b[0m\u001b[1;33m[\u001b[0m\u001b[1;36m0\u001b[0m\u001b[1;33m]\u001b[0m\u001b[1;33m.\u001b[0m\u001b[0mplot\u001b[0m\u001b[1;33m(\u001b[0m\u001b[0mBXN_times\u001b[0m\u001b[1;33m,\u001b[0m\u001b[0mBXN_data\u001b[0m\u001b[1;33m,\u001b[0m\u001b[0mlabel\u001b[0m\u001b[1;33m=\u001b[0m\u001b[1;34m'.'\u001b[0m\u001b[1;33m.\u001b[0m\u001b[0mjoin\u001b[0m\u001b[1;33m(\u001b[0m\u001b[1;33m[\u001b[0m\u001b[0mnet\u001b[0m\u001b[1;33m,\u001b[0m\u001b[0msta\u001b[0m\u001b[1;33m,\u001b[0m\u001b[0mloc\u001b[0m\u001b[1;33m,\u001b[0m\u001b[0mcha\u001b[0m\u001b[1;33m[\u001b[0m\u001b[1;36m0\u001b[0m\u001b[1;33m]\u001b[0m\u001b[1;33m]\u001b[0m\u001b[1;33m)\u001b[0m\u001b[1;33m,\u001b[0m\u001b[0mcolor\u001b[0m\u001b[1;33m=\u001b[0m\u001b[1;34m'C0'\u001b[0m\u001b[1;33m,\u001b[0m\u001b[0mlinewidth\u001b[0m\u001b[1;33m=\u001b[0m\u001b[1;36m0.7\u001b[0m\u001b[1;33m)\u001b[0m\u001b[1;33m\u001b[0m\u001b[1;33m\u001b[0m\u001b[0m\n\u001b[0;32m      5\u001b[0m \u001b[0maxs\u001b[0m\u001b[1;33m[\u001b[0m\u001b[1;36m0\u001b[0m\u001b[1;33m]\u001b[0m\u001b[1;33m.\u001b[0m\u001b[0mset_xlim\u001b[0m\u001b[1;33m(\u001b[0m\u001b[1;36m300\u001b[0m\u001b[1;33m,\u001b[0m\u001b[1;36m1000\u001b[0m\u001b[1;33m)\u001b[0m\u001b[1;33m\u001b[0m\u001b[1;33m\u001b[0m\u001b[0m\n",
      "\u001b[1;31mNameError\u001b[0m: name 'plt' is not defined"
     ]
    }
   ],
   "source": [
    "fig2, axs = plt.subplots(3, 1, sharex=True)\n",
    "fig2.subplots_adjust(hspace=0)\n",
    "\n",
    "axs[0].plot(BXN_times,BXN_data,label='.'.join([net,sta,loc,cha[0]]),color='C0',linewidth=0.7)\n",
    "axs[0].set_xlim(300,1000)\n",
    "#axs[0].set_ylim(-0.002,0.002)\n",
    "# axs[0].set_ylabel('Ground velocity (m/s)',fontsize=14)\n",
    "axs[0].legend(loc=\"upper left\")\n",
    "# plt.subplot(312, sharex=ax1)\n",
    "axs[1].plot(BXE_times,BXE_data,label='.'.join([net,sta,loc,cha[1]]),color='C1',linewidth=0.7)\n",
    "axs[1].set_xlim(300,1000)\n",
    "#axs[1].set_ylim(-0.002,0.002)\n",
    "# axs[1].ylabel('Ground velocity (m/s)',fontsize=14)\n",
    "axs[1].legend(loc=\"upper left\")\n",
    "# plt.subplot(313, sharex=ax1)\n",
    "axs[2].plot(BXZ_times,BXZ_data,label='.'.join([net,sta,loc,cha[2]]),color='C2',linewidth=0.7)\n",
    "axs[2].set_xlim(300,1000)\n",
    "#axs[2].set_ylim(-0.002,0.002)\n",
    "# axs[2].ylabel('Ground velocity (m/s)',fontsize=14)\n",
    "axs[2].legend(loc=\"upper left\")\n",
    "#axs[2].xlabel('Time after quake (s)',fontsize=14);\n",
    "\n",
    "axs[2].set_xlabel('Time after quake (s)')\n",
    "axs[1].set_ylabel('Ground velocity (m/s)')"
   ]
  },
  {
   "cell_type": "code",
   "execution_count": 14,
   "metadata": {},
   "outputs": [],
   "source": [
    "#fig2.savefig('st01.png',dpi=1000,format='png')"
   ]
  },
  {
   "cell_type": "code",
   "execution_count": null,
   "metadata": {},
   "outputs": [],
   "source": []
  }
 ],
 "metadata": {
  "kernelspec": {
   "display_name": "Python 3",
   "language": "python",
   "name": "python3"
  },
  "language_info": {
   "codemirror_mode": {
    "name": "ipython",
    "version": 3
   },
   "file_extension": ".py",
   "mimetype": "text/x-python",
   "name": "python",
   "nbconvert_exporter": "python",
   "pygments_lexer": "ipython3",
   "version": "3.7.8"
  }
 },
 "nbformat": 4,
 "nbformat_minor": 4
}
